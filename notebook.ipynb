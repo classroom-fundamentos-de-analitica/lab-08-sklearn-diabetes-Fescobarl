{
 "cells": [
  {
   "cell_type": "code",
   "execution_count": 15,
   "metadata": {},
   "outputs": [
    {
     "name": "stdout",
     "output_type": "stream",
     "text": [
      "Train MSE: 2902.0483821109683\n",
      "Test MSE: 2855.8184535056253\n",
      "Train MAE: 43.72789618474123\n",
      "Test MAE: 43.143476218056364\n",
      "Train R²: 0.484122067464441\n",
      "Test R²: 0.5690847834753974\n"
     ]
    },
    {
     "data": {
      "text/plain": [
       "['model.pkl']"
      ]
     },
     "execution_count": 15,
     "metadata": {},
     "output_type": "execute_result"
    }
   ],
   "source": [
    "import pandas as pd\n",
    "from sklearn.linear_model import LinearRegression\n",
    "from sklearn.metrics import mean_squared_error, mean_absolute_error, r2_score\n",
    "import joblib\n",
    "\n",
    "# Cargar el conjunto de entrenamiento y prueba\n",
    "train_data = pd.read_csv(\"train_dataset.csv\")\n",
    "test_data = pd.read_csv(\"test_dataset.csv\")\n",
    "\n",
    "# Separar características (X) y la variable objetivo (y)\n",
    "X_train = train_data.drop(\"target\", axis=1)  # Características de entrenamiento\n",
    "y_train = train_data[\"target\"]               # Etiquetas de entrenamiento\n",
    "\n",
    "X_test = test_data.drop(\"target\", axis=1)    # Características de prueba\n",
    "y_test = test_data[\"target\"]                 # Etiquetas de prueba\n",
    "\n",
    "# Crear el modelo de regresión lineal\n",
    "model = LinearRegression()\n",
    "\n",
    "# Entrenar el modelo\n",
    "model.fit(X_train, y_train)\n",
    "\n",
    "# Realizar predicciones en el conjunto de prueba\n",
    "y_pred_train = model.predict(X_train)\n",
    "y_pred_test = model.predict(X_test)\n",
    "\n",
    "# Calcular el MSE y el R²\n",
    "mse_train = mean_squared_error(y_train, y_pred_train)\n",
    "mse_test = mean_squared_error(y_test, y_pred_test)\n",
    "mae_train = mean_absolute_error(y_train, y_pred_train)\n",
    "mae_test = mean_absolute_error(y_test, y_pred_test)\n",
    "r2_train = r2_score(y_train, y_pred_train)\n",
    "r2_test = r2_score(y_test, y_pred_test)\n",
    "\n",
    "print(f\"Train MSE: {mse_train}\")\n",
    "print(f\"Test MSE: {mse_test}\")\n",
    "print(f\"Train MAE: {mae_train}\")\n",
    "print(f\"Test MAE: {mae_test}\")\n",
    "print(f\"Train R²: {r2_train}\")\n",
    "print(f\"Test R²: {r2_test}\")\n",
    "\n",
    "# Guardar el modelo entrenado\n",
    "joblib.dump(model, 'model.pkl')"
   ]
  }
 ],
 "metadata": {
  "kernelspec": {
   "display_name": "Python 3",
   "language": "python",
   "name": "python3"
  },
  "language_info": {
   "codemirror_mode": {
    "name": "ipython",
    "version": 3
   },
   "file_extension": ".py",
   "mimetype": "text/x-python",
   "name": "python",
   "nbconvert_exporter": "python",
   "pygments_lexer": "ipython3",
   "version": "3.12.6"
  }
 },
 "nbformat": 4,
 "nbformat_minor": 2
}
